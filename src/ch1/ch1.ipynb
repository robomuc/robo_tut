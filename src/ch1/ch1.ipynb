{
 "cells": [
  {
   "cell_type": "markdown",
   "metadata": {},
   "source": [
    "# ROS Tutorial Chapter 1\n",
    "In this tutorial you should learn the basics of using the Robot Operating System (ROS) in a simulation environment.\n",
    "Rather than a real Operating System ROS core feature is the standarized communication between different hardware related applications. This enhances resuasability of different methods e.g. of a navigation stack across different platforms.\n",
    "## Tips for Using Terminals\n",
    "You can skip that section if you know terminals else if you new to them here are some tips:\n",
    "- Autocomplete your command and file paths with the tab key\n",
    "- Use the arrow key to go to the history or type !! to repeat the last command\n",
    "- Search the command history with ctrl + r\n",
    "- Copy past with ctrl + c/v (in other terminals usually additionally + shift)\n",
    "- Terminate a running application with ctrl + c\n",
    "- Still not stopping? Find all running processes with ```ps -a```, then find the right process id to kill with ```kill -9 PROCESS_ID```\n",
    "- run ```ls``` shows the current directories folder + files and ```cd FOLDER_NAME``` to change to a folder\n",
    "- run ```clear``` to clean up the terminal log\n",
    "\n",
    "## Basic communication in ROS\n",
    "1. Now lets open a terminal on our dockerized ROS system. (File->New->Terminal)\n",
    "2. Log in as the super user with the ```su``` \n",
    "3. Now run ```roscore```\n",
    "\n",
    "You run your first ROS application which is the most essential to enable a communication between ROS application also called ROS nodes.\n",
    "Let us take a look at the output of this roscore command. We see the output ```ROS_MASTER_URI=X.X:X:X:113111``` this is the IP adress + Port to which all other ros nodes have to be referenced. If you run it on one plattform it automatically references to the local IP or local host. If you want to communicate between multiple devices you have to set the right IP in each terminal you open before. You can do this with ```export ROS_MASTER_URI=http://IP:PORT```.\n",
    "\n",
    "4. Let us open a new terminal as in stept 1.-2. and run the command ```rostopic list```\n",
    "\n",
    "We see a list of the current published topics which are ```/rosout```and ```/rosout_agg```. These topics are the adresses in ROS to which data can be published or subscribed. This is the basic input and output system of ROS. Let us open our own rostopic.\n",
    "\n",
    "5. For that we run in a third terminal ```rostopic pub /hello_world_publisher std_msgs/String \"data: 'Hello World'\" -r 1```. This will advertise first a rostopic with the name ```/hello_world_publisher``` then it will transmit or publish data of the type ```std_msgs/String``` and with the payload ```\"Hello World\"```. The ```-r 1``` parameter publishes the message in a one second interval. You can check other parameter with the ```--help``` parameter.\n",
    "\n",
    "6. Let us go back to our second terminal and check again the advertised topics to our roscore with ```rostopic list```. Now we see the ```/hello_world_publisher``` topic.\n",
    "7. Run ```rostopic echo /hello_world_publisher``` to actually recieve the message. You will see the message printed out every second in the terminal.\n",
    "\n",
    "## Our first ROS Node\n",
    "Now we know how basic commucation in ROS works, so let's try it on a simulated robot. For that we need a robot simulator. In our case we use a simulator called _Gazebo_ with a web visualization. To start everything necessary for the robot simulation we use a ```/.launch```/ file. A launch file is the ROS method to start one more ROS nodes with specific parameters. We use ```roslaunch turtlebot3_gazebo turtlebot3_house_no_gui.launch``` which starts the gazebo server simulating the turtlbot3 robot on a household map without a native gui. So lets start.\n",
    "\n",
    "1. Run ```roslaunch turtlebot3_gazebo turtlebot3_house_no_gui.launch``` to start the launch file and the gazebo server. This will also start a roscore/master\n",
    "\n",
    "The simulation environment is starting wait 1-2 minutes until you recive\n",
    "```\n",
    "[ INFO] [1564341937.572245889, 0.022000000]: waitForService: Service [/gazebo/set_physics_properties] is now available.\n",
    "[ INFO] [1564341937.608315624, 0.056000000]: Physics dynamic reconfigure ready.\n",
    "```\n",
    "Now you can start the web visulization server of gazebo.\n",
    "\n",
    "2. For that run ```gzweb``` in another terminal\n",
    "3. Now you should be able to see the web visualization at http://127.0.0.1:8080/\n",
    "\n",
    "The robot should be visible in the living room. You can move around with left-click, zoom with right-click and turn with shift + left-click. You can rest the world or inspect and create objects in the left menu bar. If you left click an object you can make it transparent or toggle visualizations for joints. If you have selected an object you can move or turn in with the buttons on the upper right side. There you can also easily add obstacles like boxes or balls.\n",
    "\n",
    "With our knowledge about topics, publishers, and subscribers we can now try to move the robot.\n",
    "So let us start with our first ROS node in python.\n",
    "\n",
    "4. We import first the rospy package in python\n"
   ]
  },
  {
   "cell_type": "code",
   "execution_count": 1,
   "metadata": {},
   "outputs": [],
   "source": [
    "import rospy"
   ]
  },
  {
   "cell_type": "markdown",
   "execution_count": null,
   "metadata": {},
   "outputs": [],
   "source": [
    "Now we can initiate the ROS node.\n",
    "\n",
    "Then take a look at the current advertised ros node in the terminal with ```rosnode list``` cmd vel and matplotlib record"
   ]
  },
  {
   "cell_type": "code",
   "execution_count": 2,
   "metadata": {},
   "outputs": [],
   "source": [
    "rospy.init_node('our_first_node')"
   ]
  },
  {
   "cell_type": "markdown",
   "metadata": {},
   "source": [
    " Now let us take a look back at the aviable rostopics with ```rostopic list```. Interesting for us are following topics:\n",
    " - ```/cmd_vel``` : with this topic we can move the robot\n",
    " - ```/imu``` : short for Inertial Measurement Unit, lets us know if the robot's body interacts with any forces\n",
    " - ```/odom``` : the position and velocity of the robot relative to a fixed frame\n",
    " - ```/joint_states``` : the positions of the joints, for the turtlebot only the wheel position\n",
    " - ```/tf``` : all the transformations of frames aviable e.g. from the base_frame of the robot to the odom fixed frame\n",
    " - ```/scan ```: Data of the robots lidar\n",
    " \n",
    "First we want to move the robot so we have to publish to the /cmd_vel topic. With ```rostopic info /cmd_vel``` we can get information of the message type which is geometry_msgs/Twist(http://docs.ros.org/api/geometry_msgs/html/msg/Twist.html). This message has two properties which take each a 3d vector one for the desired linear and one for the angular velocity.\n",
    "\n",
    "So let us import this message. After that we advertise and create our publisher object with the function ```rospy.publisher(\"/topic_name\",data_type,queue_size)```."
   ]
  },
  {
   "cell_type": "code",
   "execution_count": 3,
   "metadata": {},
   "outputs": [],
   "source": [
    "from geometry_msgs.msg import Twist\n",
    "publisher = rospy.Publisher('/cmd_vel', Twist, queue_size=10)"
   ]
  },
  {
   "cell_type": "markdown",
   "metadata": {},
   "source": [
    "Initially, let's create a mesasge which makes the robot drives in a circle. Since the robot front is in the x-axis and the axis are according to the right-hand rule it follows that the rotation is then around the z-axis. We create following message data:"
   ]
  },
  {
   "cell_type": "code",
   "execution_count": 4,
   "metadata": {},
   "outputs": [
    {
     "name": "stdout",
     "output_type": "stream",
     "text": [
      "linear: \n",
      "  x: 0.2\n",
      "  y: 0.0\n",
      "  z: 0.0\n",
      "angular: \n",
      "  x: 0.0\n",
      "  y: 0.0\n",
      "  z: 0.25\n"
     ]
    }
   ],
   "source": [
    "data = Twist()\n",
    "data.linear.x = 0.2  # meters per second\n",
    "data.angular.z = 0.25 #?Radians per second?\n",
    "print(data)"
   ]
  },
  {
   "cell_type": "markdown",
   "metadata": {},
   "source": [
    "Note: if the robot get's stuck you can use the ```Reset Model Poses``` button in the Gazebo web simulator to unstuck your robot.\n",
    "\n",
    "Now let us publish the data to make the robot drive. You can also open the gazebo webapp in a browser from you smart phone if you know your pc local ip address in the wifi."
   ]
  },
  {
   "cell_type": "code",
   "execution_count": 5,
   "metadata": {},
   "outputs": [],
   "source": [
    "publisher.publish(data)"
   ]
  },
  {
   "cell_type": "markdown",
   "metadata": {},
   "source": [
    "In the next step we learn how to recieve ros data in python. We want to compare the target velocity with the measured velocity. To recieve data we need to define a subscriber ```rospy.Subscriber(\"/topic_name\",data_type, callback_function)```. The subscriber object needs a callback_function as a parameter which we have to define first. The *callback_function* We want to subscribe to the /odom topic which gives the measured pose, orientation and velocity of the robot from its Inertial Measurement Unit (IMU) and other sensors. We can take a look at the message type again with ```rostopic info``` and ```rostopic echo```.\n",
    "\n",
    "In the next step below we import the necessary message type create a empty list where we append all data with our callback function ```odom_handler```. At last create our Subscriber"
   ]
  },
  {
   "cell_type": "code",
   "execution_count": 6,
   "metadata": {},
   "outputs": [
    {
     "data": {
      "text/plain": [
       "<rospy.topics.Subscriber at 0x7f3f642a6310>"
      ]
     },
     "execution_count": 6,
     "metadata": {},
     "output_type": "execute_result"
    }
   ],
   "source": [
    "from nav_msgs.msg import Odometry\n",
    "data_list = []\n",
    "def odom_handler(data):\n",
    "    data_list.append(data)\n",
    "    \n",
    "rospy.Subscriber(\"/odom\",Odometry, odom_handler)"
   ]
  },
  {
   "cell_type": "code",
   "execution_count": 7,
   "metadata": {},
   "outputs": [
    {
     "name": "stdout",
     "output_type": "stream",
     "text": [
      "247\n",
      "276\n"
     ]
    }
   ],
   "source": [
    "#As we see in the next step the data_list is growing.\n",
    "print(len(data_list))\n",
    "rospy.sleep(1.)\n",
    "print(len(data_list))"
   ]
  },
  {
   "cell_type": "markdown",
   "metadata": {},
   "source": [
    "This is why we cannot use directly ```data_list``` but rather limit it to a length of samples at one time step. The following code creates numpy arrays with the targets and measurements which we plot in the next steps with the matplot library."
   ]
  },
  {
   "cell_type": "code",
   "execution_count": 16,
   "metadata": {},
   "outputs": [
    {
     "name": "stdout",
     "output_type": "stream",
     "text": [
      "Data Sample Count: 11190\n"
     ]
    }
   ],
   "source": [
    "import numpy as np\n",
    "current_len = len(data_list)\n",
    "print(\"Data Sample Count: \"+str(current_len))\n",
    "lin_x_target = 0.2*np.ones(current_len)\n",
    "ang_z_target = 0.25*np.ones(current_len)\n",
    "lin_x_measured = np.zeros(current_len)\n",
    "ang_z_measured = np.zeros(current_len)\n",
    "pose_x_measured = np.zeros(current_len)\n",
    "pose_y_measured = np.zeros(current_len)\n",
    "\n",
    "for index in range(current_len):\n",
    "    lin_x_measured[index] = data_list[index].twist.twist.linear.x\n",
    "    ang_z_measured[index] = data_list[index].twist.twist.angular.z\n",
    "    pose_x_measured[index] = data_list[index].pose.pose.position.x\n",
    "    pose_y_measured[index] = data_list[index].pose.pose.position.y"
   ]
  },
  {
   "cell_type": "code",
   "execution_count": 18,
   "metadata": {},
   "outputs": [
    {
     "data": {
      "application/vnd.jupyter.widget-view+json": {
       "model_id": "55627ef177074bb1a2a8cb23809dd1cb",
       "version_major": 2,
       "version_minor": 0
      },
      "text/plain": [
       "Q2FudmFzKHRvb2xiYXI9VG9vbGJhcih0b29saXRlbXM9Wyh1J0hvbWUnLCB1J1Jlc2V0IG9yaWdpbmFsIHZpZXcnLCAnaG9tZScsIHUnaG9tZScpLCAodSdCYWNrJywgdSdCYWNrIHRvICBwcmXigKY=\n"
      ]
     },
     "metadata": {},
     "output_type": "display_data"
    }
   ],
   "source": [
    "#In this plot we compare the linear velocity\n",
    "%matplotlib widget\n",
    "import matplotlib.pyplot as plt\n",
    "plt.plot(lin_x_measured)\n",
    "plt.plot(lin_x_target)\n",
    "plt.show()"
   ]
  },
  {
   "cell_type": "code",
   "execution_count": 17,
   "metadata": {},
   "outputs": [
    {
     "data": {
      "application/vnd.jupyter.widget-view+json": {
       "model_id": "",
       "version_major": 2,
       "version_minor": 0
      },
      "text/plain": [
       "Q2FudmFzKHRvb2xiYXI9VG9vbGJhcih0b29saXRlbXM9Wyh1J0hvbWUnLCB1J1Jlc2V0IG9yaWdpbmFsIHZpZXcnLCAnaG9tZScsIHUnaG9tZScpLCAodSdCYWNrJywgdSdCYWNrIHRvICBwcmXigKY=\n"
      ]
     },
     "metadata": {},
     "output_type": "display_data"
    }
   ],
   "source": [
    "#In this plot we compare the angular velocity\n",
    "%matplotlib widget\n",
    "import matplotlib.pyplot as plt\n",
    "plt.plot(ang_z_measured)\n",
    "plt.plot(ang_z_target)\n",
    "plt.show()"
   ]
  },
  {
   "cell_type": "code",
   "execution_count": 13,
   "metadata": {},
   "outputs": [
    {
     "data": {
      "application/vnd.jupyter.widget-view+json": {
       "model_id": "",
       "version_major": 2,
       "version_minor": 0
      },
      "text/plain": [
       "Q2FudmFzKHRvb2xiYXI9VG9vbGJhcih0b29saXRlbXM9Wyh1J0hvbWUnLCB1J1Jlc2V0IG9yaWdpbmFsIHZpZXcnLCAnaG9tZScsIHUnaG9tZScpLCAodSdCYWNrJywgdSdCYWNrIHRvICBwcmXigKY=\n"
      ]
     },
     "metadata": {},
     "output_type": "display_data"
    }
   ],
   "source": [
    "# This is a plot of the position reached\n",
    "%matplotlib widget\n",
    "import matplotlib.pyplot as plt\n",
    "import matplotlib as mpl\n",
    "    \n",
    "heatmap, xedges, yedges = np.histogram2d(pose_x_measured, pose_y_measured, bins=500)\n",
    "extent = [xedges[0], xedges[-1], yedges[0], yedges[-1]]\n",
    "cmap = mpl.colors.ListedColormap(['w', 'k'])\n",
    "\n",
    "bounds = [0.,1.0, 2.]\n",
    "norm = mpl.colors.BoundaryNorm(bounds, cmap.N)\n",
    "\n",
    "plt.clf()\n",
    "plt.imshow(heatmap.T, extent=extent, cmap=cmap, origin='lower', interpolation='none', norm=norm)\n",
    "plt.show()"
   ]
  },
  {
   "cell_type": "markdown",
   "metadata": {},
   "source": [
    "We see the robot is moving pretty much in a circle even though there is noice in the measured velocities"
   ]
  },
  {
   "cell_type": "code",
   "execution_count": null,
   "metadata": {},
   "outputs": [],
   "source": []
  }
 ],
 "metadata": {
  "kernelspec": {
   "display_name": "Python 2",
   "language": "python",
   "name": "python2"
  },
  "language_info": {
   "codemirror_mode": {
    "name": "ipython",
    "version": 2
   },
   "file_extension": ".py",
   "mimetype": "text/x-python",
   "name": "python",
   "nbconvert_exporter": "python",
   "pygments_lexer": "ipython2",
   "version": "2.7.12"
  }
 },
 "nbformat": 4,
 "nbformat_minor": 4
}