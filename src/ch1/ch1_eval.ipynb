{
 "cells": [
  {
   "cell_type": "markdown",
   "metadata": {},
   "source": [
    "# ROS Tutorial Chapter 1 Evaluation\n",
    "This notebook starts the evaluation for the Chapter one Challenge"
   ]
  },
  {
   "cell_type": "code",
   "execution_count": 6,
   "metadata": {},
   "outputs": [
    {
     "data": {
      "text/plain": [
       "<rospy.topics.Subscriber at 0x7fa2c54bfe50>"
      ]
     },
     "execution_count": 6,
     "metadata": {},
     "output_type": "execute_result"
    }
   ],
   "source": [
    "import rospy\n",
    "rospy.init_node('our_first_node')\n",
    "from nav_msgs.msg import Odometry\n",
    "from std_msgs.msg import String\n",
    "data_list = []\n",
    "\n",
    "publisher = rospy.Publisher('/eval', String, queue_size=10)\n",
    "def odom_handler(data):\n",
    "    result = \"goal not reached\"\n",
    "    if(data.pose.pose.position.x<= -1.57 and data.pose.pose.position.y <= -1.63):\n",
    "        result = \"goal reached\"\n",
    "    publisher.publish(result)\n",
    "    \n",
    "rospy.Subscriber(\"/odom\",Odometry, odom_handler)"
   ]
  },
  {
   "cell_type": "code",
   "execution_count": null,
   "metadata": {},
   "outputs": [],
   "source": []
  }
 ],
 "metadata": {
  "kernelspec": {
   "display_name": "Python 2",
   "language": "python",
   "name": "python2"
  },
  "language_info": {
   "codemirror_mode": {
    "name": "ipython",
    "version": 2
   },
   "file_extension": ".py",
   "mimetype": "text/x-python",
   "name": "python",
   "nbconvert_exporter": "python",
   "pygments_lexer": "ipython2",
   "version": "2.7.12"
  }
 },
 "nbformat": 4,
 "nbformat_minor": 4
}
