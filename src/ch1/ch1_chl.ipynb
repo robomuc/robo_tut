{
 "cells": [
  {
   "cell_type": "markdown",
   "metadata": {},
   "source": [
    "# ROS Tutorial Chapter 1 Challenge\n",
    "Now you know everything to tackle you first challenge\n",
    "## Challenge Description\n",
    "First you have to run ```roslaunch ch1_chl.launch``` to launch the maze world.\n",
    "Then you have to use data from the `/scan` topic to navigate from the upper right corner to the lower left corner as seen in the picture below.\n",
    "The challenge is solved when the `/eval` topic which can be started in `ch1_eval.ipynb` gives \"goal reach\" instead of \"goal not reached\"\n",
    "![alt text](chal_1.png \"Overview\")"
   ]
  },
  {
   "cell_type": "markdown",
   "metadata": {},
   "source": [
    "## Hints\n",
    "Some information from the /scan topics header\n",
    "```\n",
    "angle_min: 0.0\n",
    "angle_max: 6.28318977356\n",
    "angle_increment: 0.0175019223243\n",
    "time_increment: 0.0\n",
    "scan_time: 0.0\n",
    "range_min: 0.119999997318\n",
    "range_max: 3.5\n",
    "```\n",
    "- angles are calculated in radians and their rotation is clockwise from the same view as the picture\n",
    "- ranges are in meter\n",
    "\n",
    "## Code:"
   ]
  },
  {
   "cell_type": "code",
   "execution_count": null,
   "metadata": {},
   "outputs": [],
   "source": [
    "import rospy\n"
   ]
  }
 ],
 "metadata": {
  "kernelspec": {
   "display_name": "Python 2",
   "language": "python",
   "name": "python2"
  },
  "language_info": {
   "codemirror_mode": {
    "name": "ipython",
    "version": 2
   },
   "file_extension": ".py",
   "mimetype": "text/x-python",
   "name": "python",
   "nbconvert_exporter": "python",
   "pygments_lexer": "ipython2",
   "version": "2.7.12"
  }
 },
 "nbformat": 4,
 "nbformat_minor": 4
}